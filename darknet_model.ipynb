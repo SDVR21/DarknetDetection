{
  "cells": [
    {
      "cell_type": "code",
      "execution_count": 14,
      "metadata": {
        "id": "4R7KyhnRdkGz"
      },
      "outputs": [],
      "source": [
        "import numpy as np\n",
        "import pandas as pd\n",
        "import os\n",
        "\n",
        "from tensorflow.keras import backend as K\n",
        "from tensorflow.keras.layers import Input, Lambda, Dense, Dropout, Convolution2D, MaxPooling2D, Flatten, Activation\n",
        "from tensorflow.keras.models import Sequential, Model\n",
        "from tensorflow.keras.utils import to_categorical\n",
        "from tensorflow.keras.optimizers import RMSprop\n",
        "from tensorflow.keras import optimizers\n",
        "from tensorflow.keras import callbacks\n",
        "from tensorflow.keras.callbacks import ModelCheckpoint, LearningRateScheduler, EarlyStopping, ReduceLROnPlateau, TensorBoard\n",
        "from tensorflow.keras.models import Model, load_model, model_from_json\n",
        "from tensorflow.keras.layers import Dense, Dropout, Flatten, Conv2D, MaxPool2D, BatchNormalization\n",
        "\n",
        "import torch\n",
        "import torch.nn as nn\n",
        "import torch.optim as optim\n",
        "from torch.utils.data import Dataset, DataLoader\n",
        "\n",
        "from sklearn.preprocessing import StandardScaler, MinMaxScaler, LabelEncoder\n",
        "\n",
        "import matplotlib.pyplot as plt\n",
        "get_ipython().magic(u'matplotlib inline')\n",
        "plt.style.use('ggplot')"
      ]
    },
    {
      "cell_type": "markdown",
      "metadata": {
        "id": "nn073e_Gfq40"
      },
      "source": [
        "# Defining Contrastive loss and other utils"
      ]
    },
    {
      "cell_type": "code",
      "execution_count": 15,
      "metadata": {
        "id": "qEgEmkUbfqTE"
      },
      "outputs": [],
      "source": [
        "import random\n",
        "from keras.models import Model\n",
        "from keras.layers import Input, Flatten, Dense, Dropout, Lambda\n",
        "from keras.optimizers import RMSprop\n",
        "from keras import backend as K\n",
        "\n",
        "def euclidean_distance(vects):\n",
        "    x, y = vects\n",
        "    sum_square = K.sum(K.square(x - y), axis=1, keepdims=True)\n",
        "    return K.sqrt(K.maximum(sum_square, K.epsilon()))\n",
        "\n",
        "\n",
        "def eucl_dist_output_shape(shapes):\n",
        "    shape1, shape2 = shapes\n",
        "    return (shape1[0], 1)\n",
        "\n",
        "\n",
        "def contrastive_loss(y_true, y_pred):\n",
        "    y_true = K.cast(y_true, 'float32')\n",
        "    y_pred = K.cast(y_pred, 'float32')\n",
        "    margin = 1\n",
        "    sqaure_pred = K.square(y_pred)\n",
        "    margin_square = K.square(K.maximum(margin - y_pred, 0))\n",
        "    return K.mean(y_true * sqaure_pred + (1 - y_true) * margin_square)\n",
        "\n",
        "\n",
        "def create_pairs(x, digit_indices):\n",
        "    pairs = []\n",
        "    labels = []\n",
        "    n = min([len(digit_indices[d]) for d in range(num_classes)]) - 1\n",
        "    for d in range(num_classes):\n",
        "        for i in range(n):\n",
        "            z1, z2 = digit_indices[d][i], digit_indices[d][i + 1]\n",
        "            pairs += [[x[z1], x[z2]]]\n",
        "            inc = random.randrange(1, num_classes)\n",
        "            dn = (d + inc) % num_classes\n",
        "            z1, z2 = digit_indices[d][i], digit_indices[dn][i]\n",
        "            pairs += [[x[z1], x[z2]]]\n",
        "            labels += [1, 0]\n",
        "    return np.array(pairs), np.array(labels)\n",
        "\n",
        "\n",
        "def create_base_network(input_shape):\n",
        "    input = Input(shape=input_shape)\n",
        "    x = Flatten()(input)\n",
        "    x = Dense(128, activation='relu')(x)\n",
        "    x = Dropout(0.1)(x)\n",
        "    x = Dense(128, activation='relu')(x)\n",
        "    x = Dropout(0.1)(x)\n",
        "    x = Dense(128, activation='relu')(x)\n",
        "    x = Lambda(lambda  x: K.l2_normalize(x,axis=1))(x)\n",
        "    x = Lambda(lambda  x: K.l2_normalize(x,axis=1))(x)\n",
        "    return Model(input, x)\n",
        "\n",
        "\n",
        "def compute_accuracy(y_true, y_pred):\n",
        "    pred = y_pred.ravel() < 0.5\n",
        "    return np.mean(pred == y_true)\n",
        "\n",
        "\n",
        "def accuracy(y_true, y_pred):\n",
        "    return K.mean(K.equal(y_true, K.cast(y_pred < 0.5, y_true.dtype)))"
      ]
    },
    {
      "cell_type": "markdown",
      "metadata": {
        "id": "hgRiUkCneLJY"
      },
      "source": [
        "# Loading preprocessed dataset"
      ]
    },
    {
      "cell_type": "code",
      "execution_count": 16,
      "metadata": {
        "colab": {
          "base_uri": "https://localhost:8080/"
        },
        "id": "zsUrkabyefui",
        "outputId": "33d2132e-dea2-466b-be16-9ce6e6513a11"
      },
      "outputs": [
        {
          "output_type": "stream",
          "name": "stderr",
          "text": [
            "<ipython-input-16-28a9d526590b>:1: FutureWarning: The error_bad_lines argument has been deprecated and will be removed in a future version. Use on_bad_lines in the future.\n",
            "\n",
            "\n",
            "  ds = pd.read_csv(\"./darknet_dataset_processed.csv\", keep_default_na = False, low_memory = False, error_bad_lines = False)\n"
          ]
        }
      ],
      "source": [
        "ds = pd.read_csv(\"./darknet_dataset_processed.csv\", keep_default_na = False, low_memory = False, error_bad_lines = False)\n",
        "pd.set_option('mode.chained_assignment',  None)\n",
        "data = ds[['Total Fwd Packet', 'Total Bwd packets', 'Protocol', 'Src Port', 'Dst Port', 'Total Length of Fwd Packet', 'Total Length of Bwd Packet',\n",
        "       'Fwd Packet Length Max', 'dst_bogon', 'Fwd Packet Length Mean', 'Fwd Packet Length Std', 'Bwd Packet Length Max', 'Bwd Packet Length Min',\n",
        "       'Bwd Packet Length Mean', 'Bwd Packet Length Std', 'Flow Bytes/s', 'Flow Packets/s', 'Flow IAT Mean', 'Flow IAT Std', 'Flow IAT Max',\n",
        "       'Flow IAT Min', 'Fwd IAT Total', 'Fwd IAT Mean', 'Fwd IAT Std', 'Fwd IAT Max', 'Fwd IAT Min', 'Bwd IAT Total', 'Bwd IAT Mean',\n",
        "       'Bwd IAT Std', 'Bwd IAT Max', 'Bwd IAT Min', 'Fwd PSH Flags', 'Bwd PSH Flags', 'Fwd URG Flags', 'Bwd URG Flags', 'Fwd Header Length',\n",
        "       'Bwd Header Length', 'Fwd Packets/s', 'Bwd Packets/s', 'Packet Length Min', 'Packet Length Max', 'Packet Length Mean',\n",
        "      'Packet Length Std', 'Packet Length Variance', 'FIN Flag Count', 'SYN Flag Count', 'RST Flag Count', 'PSH Flag Count', 'ACK Flag Count',\n",
        "       'Average Packet Size', 'Fwd Segment Size Avg', 'Bwd Segment Size Avg', 'Down/Up Ratio', 'Bwd Bytes/Bulk Avg', 'Bwd Packet/Bulk Avg', 'Bwd Bulk Rate Avg',\n",
        "       'Subflow Fwd Packets', 'Subflow Fwd Bytes', 'Subflow Bwd Packets', 'Subflow Bwd Bytes', 'FWD Init Win Bytes', 'Bwd Init Win Bytes',\n",
        "       'Fwd Act Data Pkts', 'Fwd Seg Size Min']]\n",
        "scaler = StandardScaler()\n",
        "data_std = scaler.fit_transform(data)\n",
        "data.fillna(data.mean(), inplace=True)\n",
        "data_std = pd.DataFrame(data_std, columns=data.columns)"
      ]
    },
    {
      "cell_type": "code",
      "execution_count": 17,
      "metadata": {
        "id": "JQN7X1jxh1wR"
      },
      "outputs": [],
      "source": [
        "train_x = data.values.reshape(data.values.shape[0], 8, 8)\n",
        "\n",
        "# Resize 8x8 data to 32x32 by repeating values.\n",
        "def resize_by_repetition(data_8x8):\n",
        "    n_samples = data_8x8.shape[0]\n",
        "    data_32x32 = np.zeros((n_samples, 32, 32))\n",
        "\n",
        "    for i in range(8):\n",
        "        for j in range(8):\n",
        "            data_32x32[:, i*4:i*4+4, j*4:j*4+4] = data_8x8[:, i:i+1, j:j+1]\n",
        "\n",
        "    return data_32x32\n",
        "\n",
        "x_resize = resize_by_repetition(train_x)"
      ]
    },
    {
      "cell_type": "code",
      "source": [
        "train_data = np.array(x_resize).reshape(-1,32,32)\n",
        "label_encoder = LabelEncoder()\n",
        "train_labels = np.array(label_encoder.fit_transform(ds['Label']))\n",
        "\n",
        "from sklearn.model_selection import train_test_split\n",
        "x_train, x_test, y_train, y_test = train_test_split(train_data, train_labels, test_size=0.2, shuffle=True, random_state=1)\n",
        "print(\"Train data shape: {}.\".format(x_train.shape))\n",
        "num_classes =2\n",
        "\n",
        "x_train = x_train.astype('float32')\n",
        "x_test = x_test.astype('float32')\n",
        "x_train /= 255\n",
        "x_test /= 255\n",
        "input_shape = x_train.shape[1:]\n",
        "\n",
        "digit_indices = [np.where(y_train == i)[0] for i in range(num_classes)]\n",
        "tr_pairs, tr_y = create_pairs(x_train, digit_indices)\n",
        "digit_indices = [np.where(y_test == i)[0] for i in range(num_classes)]\n",
        "te_pairs, te_y = create_pairs(x_test, digit_indices)"
      ],
      "metadata": {
        "colab": {
          "base_uri": "https://localhost:8080/"
        },
        "id": "td0DRLuYTu62",
        "outputId": "e8b036a8-56ec-4261-f4d4-23be4710e068"
      },
      "execution_count": 18,
      "outputs": [
        {
          "output_type": "stream",
          "name": "stdout",
          "text": [
            "Train data shape: (75760, 32, 32).\n"
          ]
        }
      ]
    },
    {
      "cell_type": "markdown",
      "source": [
        "# Model instantiation and training"
      ],
      "metadata": {
        "id": "lJ1EmPFmSdw2"
      }
    },
    {
      "cell_type": "code",
      "execution_count": 19,
      "metadata": {
        "id": "FvWH_aQEg8L7",
        "colab": {
          "base_uri": "https://localhost:8080/"
        },
        "outputId": "d4fc9b4f-0662-4a74-f8a4-0166c0b420f7"
      },
      "outputs": [
        {
          "output_type": "stream",
          "name": "stdout",
          "text": [
            "Epoch 1/10\n",
            "71/71 [==============================] - 2s 11ms/step - loss: 0.1939 - accuracy: 0.7191 - val_loss: 0.1697 - val_accuracy: 0.7529\n",
            "Epoch 2/10\n",
            "71/71 [==============================] - 1s 10ms/step - loss: 0.1660 - accuracy: 0.7703 - val_loss: 0.1409 - val_accuracy: 0.8232\n",
            "Epoch 3/10\n",
            "71/71 [==============================] - 1s 13ms/step - loss: 0.1553 - accuracy: 0.7844 - val_loss: 0.1292 - val_accuracy: 0.8280\n",
            "Epoch 4/10\n",
            "71/71 [==============================] - 1s 17ms/step - loss: 0.1482 - accuracy: 0.7904 - val_loss: 0.1645 - val_accuracy: 0.7553\n",
            "Epoch 5/10\n",
            "71/71 [==============================] - 1s 17ms/step - loss: 0.1421 - accuracy: 0.7994 - val_loss: 0.1265 - val_accuracy: 0.8264\n",
            "Epoch 6/10\n",
            "71/71 [==============================] - 2s 22ms/step - loss: 0.1352 - accuracy: 0.8109 - val_loss: 0.1199 - val_accuracy: 0.8480\n",
            "Epoch 7/10\n",
            "71/71 [==============================] - 1s 15ms/step - loss: 0.1303 - accuracy: 0.8202 - val_loss: 0.1312 - val_accuracy: 0.8328\n",
            "Epoch 8/10\n",
            "71/71 [==============================] - 1s 13ms/step - loss: 0.1268 - accuracy: 0.8262 - val_loss: 0.1222 - val_accuracy: 0.8100\n",
            "Epoch 9/10\n",
            "71/71 [==============================] - 1s 16ms/step - loss: 0.1234 - accuracy: 0.8310 - val_loss: 0.1112 - val_accuracy: 0.8425\n",
            "Epoch 10/10\n",
            "71/71 [==============================] - 1s 11ms/step - loss: 0.1223 - accuracy: 0.8315 - val_loss: 0.1243 - val_accuracy: 0.8264\n",
            "141/141 [==============================] - 0s 2ms/step\n",
            "34/34 [==============================] - 0s 2ms/step\n",
            "* Accuracy on training set: 80.87%\n",
            "* Accuracy on test set: 82.55%\n"
          ]
        }
      ],
      "source": [
        "num_classes = 2\n",
        "epochs = 10\n",
        "\n",
        "input_shape = (32, 32)\n",
        "base_network = create_base_network(input_shape)\n",
        "\n",
        "input_a = Input(shape=input_shape)\n",
        "input_b = Input(shape=input_shape)\n",
        "\n",
        "processed_a = base_network(input_a)\n",
        "processed_b = base_network(input_b)\n",
        "\n",
        "distance = Lambda(euclidean_distance, output_shape=eucl_dist_output_shape)([processed_a, processed_b])\n",
        "\n",
        "model = Model([input_a, input_b], distance)\n",
        "\n",
        "rms = RMSprop()\n",
        "model.compile(loss=contrastive_loss, optimizer=rms, metrics=[accuracy])\n",
        "history = model.fit([tr_pairs[:, 0], tr_pairs[:, 1]], tr_y,\n",
        "          batch_size=64,\n",
        "          epochs=epochs,\n",
        "          validation_data=([te_pairs[:, 0], te_pairs[:, 1]], te_y))\n",
        "\n",
        "y_pred_tr = model.predict([tr_pairs[:, 0], tr_pairs[:, 1]])\n",
        "tr_acc = compute_accuracy(tr_y, y_pred_tr)\n",
        "y_pred_te = model.predict([te_pairs[:, 0], te_pairs[:, 1]])\n",
        "te_acc = compute_accuracy(te_y, y_pred_te)\n",
        "\n",
        "print('* Accuracy on training set: %0.2f%%' % (100 * tr_acc))\n",
        "print('* Accuracy on test set: %0.2f%%' % (100 * te_acc))"
      ]
    },
    {
      "cell_type": "markdown",
      "source": [
        "# Evaluation"
      ],
      "metadata": {
        "id": "rHhdHT4vF78L"
      }
    },
    {
      "cell_type": "code",
      "execution_count": 20,
      "metadata": {
        "id": "Mr9Nhxh10Wu6",
        "colab": {
          "base_uri": "https://localhost:8080/",
          "height": 569
        },
        "outputId": "134eaa99-abeb-44ef-929a-8b85c5c50db6"
      },
      "outputs": [
        {
          "output_type": "display_data",
          "data": {
            "text/plain": [
              "<Figure size 800x600 with 1 Axes>"
            ],
            "image/png": "[encoded data removed]"
          },
          "metadata": {}
        }
      ],
      "source": [
        "acc = history.history['accuracy']\n",
        "val_acc = history.history['val_accuracy']\n",
        "epochs_range = range(1, len(acc) + 1)\n",
        "\n",
        "plt.figure(figsize=(8, 6))\n",
        "plt.gca().set_facecolor('white')\n",
        "plt.gca().spines['top'].set_color('black')\n",
        "plt.gca().spines['bottom'].set_color('black')\n",
        "plt.gca().spines['left'].set_color('black')\n",
        "plt.gca().spines['right'].set_color('black')\n",
        "plt.plot(epochs_range, acc, label='Training Accuracy')\n",
        "plt.plot(epochs_range, val_acc, label='Validation Accuracy')\n",
        "plt.xlabel('Epoch')\n",
        "plt.ylabel('Accuracy')\n",
        "plt.title('Model Accuracy')\n",
        "plt.legend()\n",
        "plt.show()\n"
      ]
    }
  ],
  "metadata": {
    "colab": {
      "provenance": []
    },
    "kernelspec": {
      "display_name": "Python 3",
      "name": "python3"
    },
    "language_info": {
      "name": "python"
    }
  },
  "nbformat": 4,
  "nbformat_minor": 0
}